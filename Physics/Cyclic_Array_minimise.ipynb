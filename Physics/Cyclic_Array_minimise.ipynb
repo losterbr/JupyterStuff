{
 "cells": [
  {
   "cell_type": "code",
   "execution_count": 1,
   "metadata": {},
   "outputs": [],
   "source": [
    "# Problem:\n",
    "# Assume we have an cyclic-array of length n with real values\n",
    "# By cyclic we mean that the successor of the last element is the first element\n",
    "# Given an energy-functional f - Which permutation (s) minimises the energy?\n",
    "# Note that we assume f to be bounded from below.\n",
    "#\n",
    "# Is the lowest-energy state unique mod symmetries?"
   ]
  },
  {
   "cell_type": "code",
   "execution_count": 2,
   "metadata": {},
   "outputs": [],
   "source": [
    "a=[0,0,0,1,6,7,7,7] \n",
    "# We break the symmetry by setting the first element to 0\n",
    "# And second element being bigger than the last element\n"
   ]
  },
  {
   "cell_type": "code",
   "execution_count": 3,
   "metadata": {},
   "outputs": [
    {
     "data": {
      "text/plain": [
       "76"
      ]
     },
     "execution_count": 3,
     "metadata": {},
     "output_type": "execute_result"
    }
   ],
   "source": [
    "def square_energy(d):\n",
    "    # lower bound is zero\n",
    "    l = len(d)\n",
    "    res = (d[0] - d[l-1])**2\n",
    "    for i in range(l-1):\n",
    "        res = res + (d[i+1]-d[i])**2\n",
    "    return res\n",
    "        \n",
    "square_energy(a)"
   ]
  },
  {
   "cell_type": "code",
   "execution_count": 4,
   "metadata": {},
   "outputs": [],
   "source": [
    "def unique(list1):\n",
    "    unique_list = []\n",
    "    for x in list1:\n",
    "        if x not in unique_list:\n",
    "            unique_list.append(x)\n",
    "    return unique_list\n",
    "\n",
    "def reflect(a):\n",
    "    res=a.copy()\n",
    "    res.reverse()\n",
    "    return res\n",
    "\n",
    "def cycle(x,offset):\n",
    "    n=len(x)\n",
    "    for i in range(offset, n+offset): yield x[i%n]\n",
    "    \n",
    "def all_cycle(x):\n",
    "    n=len(x)\n",
    "    for offset in range(0,n): yield list(cycle(x,offset))\n",
    "    \n",
    "def get_sym_class(x):\n",
    "    cycles = list(all_cycle(x))\n",
    "    reflected = list(map(reflect,cycles))\n",
    "    return unique(cycles+reflected)\n"
   ]
  },
  {
   "cell_type": "code",
   "execution_count": 5,
   "metadata": {},
   "outputs": [
    {
     "data": {
      "text/plain": [
       "[[0, 0, 0, 1, 6, 7, 7, 7],\n",
       " [0, 0, 0, 1, 7, 6, 7, 7],\n",
       " [0, 0, 0, 1, 7, 7, 6, 7],\n",
       " [0, 0, 0, 1, 7, 7, 7, 6],\n",
       " [0, 0, 0, 6, 1, 7, 7, 7],\n",
       " [0, 0, 0, 6, 7, 1, 7, 7],\n",
       " [0, 0, 0, 6, 7, 7, 1, 7],\n",
       " [0, 0, 0, 7, 1, 6, 7, 7],\n",
       " [0, 0, 0, 7, 1, 7, 6, 7],\n",
       " [0, 0, 0, 7, 6, 1, 7, 7],\n",
       " [0, 0, 1, 0, 6, 7, 7, 7],\n",
       " [0, 0, 1, 0, 7, 6, 7, 7],\n",
       " [0, 0, 1, 0, 7, 7, 6, 7],\n",
       " [0, 0, 1, 0, 7, 7, 7, 6],\n",
       " [0, 0, 1, 6, 0, 7, 7, 7],\n",
       " [0, 0, 1, 6, 7, 0, 7, 7],\n",
       " [0, 0, 1, 6, 7, 7, 0, 7],\n",
       " [0, 0, 1, 7, 0, 6, 7, 7],\n",
       " [0, 0, 1, 7, 0, 7, 6, 7],\n",
       " [0, 0, 1, 7, 0, 7, 7, 6],\n",
       " [0, 0, 1, 7, 6, 0, 7, 7],\n",
       " [0, 0, 1, 7, 6, 7, 0, 7],\n",
       " [0, 0, 1, 7, 7, 0, 6, 7],\n",
       " [0, 0, 1, 7, 7, 0, 7, 6],\n",
       " [0, 0, 1, 7, 7, 6, 0, 7],\n",
       " [0, 0, 1, 7, 7, 7, 0, 6],\n",
       " [0, 0, 6, 0, 1, 7, 7, 7],\n",
       " [0, 0, 6, 0, 7, 1, 7, 7],\n",
       " [0, 0, 6, 0, 7, 7, 1, 7],\n",
       " [0, 0, 6, 1, 0, 7, 7, 7],\n",
       " [0, 0, 6, 1, 7, 0, 7, 7],\n",
       " [0, 0, 6, 1, 7, 7, 0, 7],\n",
       " [0, 0, 6, 7, 0, 1, 7, 7],\n",
       " [0, 0, 6, 7, 0, 7, 1, 7],\n",
       " [0, 0, 6, 7, 1, 0, 7, 7],\n",
       " [0, 0, 6, 7, 1, 7, 0, 7],\n",
       " [0, 0, 6, 7, 7, 0, 1, 7],\n",
       " [0, 0, 6, 7, 7, 1, 0, 7],\n",
       " [0, 0, 7, 0, 1, 6, 7, 7],\n",
       " [0, 0, 7, 0, 1, 7, 6, 7],\n",
       " [0, 0, 7, 0, 6, 1, 7, 7],\n",
       " [0, 0, 7, 0, 6, 7, 1, 7],\n",
       " [0, 0, 7, 0, 7, 1, 6, 7],\n",
       " [0, 0, 7, 0, 7, 6, 1, 7],\n",
       " [0, 0, 7, 1, 0, 6, 7, 7],\n",
       " [0, 0, 7, 1, 0, 7, 6, 7],\n",
       " [0, 0, 7, 1, 6, 0, 7, 7],\n",
       " [0, 0, 7, 1, 7, 0, 6, 7],\n",
       " [0, 0, 7, 6, 0, 1, 7, 7],\n",
       " [0, 0, 7, 6, 1, 0, 7, 7],\n",
       " [0, 1, 0, 6, 0, 7, 7, 7],\n",
       " [0, 1, 0, 6, 7, 0, 7, 7],\n",
       " [0, 1, 0, 6, 7, 7, 0, 7],\n",
       " [0, 1, 0, 7, 0, 6, 7, 7],\n",
       " [0, 1, 0, 7, 0, 7, 6, 7],\n",
       " [0, 1, 0, 7, 6, 0, 7, 7],\n",
       " [0, 1, 6, 0, 7, 0, 7, 7],\n",
       " [0, 1, 6, 0, 7, 7, 0, 7],\n",
       " [0, 1, 6, 7, 0, 7, 0, 7],\n",
       " [0, 1, 7, 0, 6, 0, 7, 7],\n",
       " [0, 1, 7, 0, 6, 7, 0, 7],\n",
       " [0, 1, 7, 0, 7, 0, 6, 7],\n",
       " [0, 1, 7, 0, 7, 0, 7, 6],\n",
       " [0, 1, 7, 0, 7, 6, 0, 7],\n",
       " [0, 1, 7, 0, 7, 7, 0, 6],\n",
       " [0, 1, 7, 6, 0, 7, 0, 7],\n",
       " [0, 1, 7, 7, 0, 6, 0, 7],\n",
       " [0, 1, 7, 7, 0, 7, 0, 6],\n",
       " [0, 6, 0, 7, 0, 7, 1, 7],\n",
       " [0, 6, 1, 7, 0, 7, 0, 7]]"
      ]
     },
     "execution_count": 5,
     "metadata": {},
     "output_type": "execute_result"
    }
   ],
   "source": [
    "import itertools\n",
    "\n",
    "def get_cyclic_permutations_mod_sym(a):\n",
    "    # Actual mathematic term might be incorrect here\n",
    "    # Because the array is cyclic we can pick a \"gauge\" and freeze the first element\n",
    "    result = list(map(list,list(itertools.permutations(a))))\n",
    "    def unique_mod_sym(list1):\n",
    "        unique_list = []\n",
    "        unique_list_key = []\n",
    "        for x in list1:\n",
    "            if x not in unique_list:\n",
    "                unique_list_key.append(x)\n",
    "                x_plus_sym = get_sym_class(x)\n",
    "                unique_list = unique_list+x_plus_sym\n",
    "        return unique_list_key\n",
    "    return unique_mod_sym(result)\n",
    "\n",
    "get_cyclic_permutations_mod_sym(a)"
   ]
  },
  {
   "cell_type": "code",
   "execution_count": 6,
   "metadata": {},
   "outputs": [
    {
     "name": "stdout",
     "output_type": "stream",
     "text": [
      "[0, 0, 0, 1, 7, 7, 7, 6] : 74\n"
     ]
    }
   ],
   "source": [
    "# Brute-force\n",
    "import sys\n",
    "\n",
    "min_states,min_energy = [],sys.float_info.max\n",
    "for curr_state in get_cyclic_permutations_mod_sym(a):\n",
    "    curr_energy = square_energy(curr_state)\n",
    "    if curr_energy < min_energy:\n",
    "         min_states,min_energy = [curr_state],curr_energy\n",
    "    elif curr_energy==min_energy:\n",
    "        min_states.append(curr_state)\n",
    "for s in min_states:\n",
    "    print(f\"{s} : {square_energy(s)}\")\n",
    "    "
   ]
  },
  {
   "cell_type": "code",
   "execution_count": null,
   "metadata": {},
   "outputs": [],
   "source": []
  },
  {
   "cell_type": "code",
   "execution_count": null,
   "metadata": {},
   "outputs": [],
   "source": [
    "\n"
   ]
  }
 ],
 "metadata": {
  "kernelspec": {
   "display_name": "Python 3",
   "language": "python",
   "name": "python3"
  },
  "language_info": {
   "codemirror_mode": {
    "name": "ipython",
    "version": 3
   },
   "file_extension": ".py",
   "mimetype": "text/x-python",
   "name": "python",
   "nbconvert_exporter": "python",
   "pygments_lexer": "ipython3",
   "version": "3.7.9"
  }
 },
 "nbformat": 4,
 "nbformat_minor": 2
}
