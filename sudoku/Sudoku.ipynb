{
 "cells": [
  {
   "cell_type": "code",
   "execution_count": 1,
   "metadata": {},
   "outputs": [],
   "source": [
    "# key algo based on https://www.youtube.com/watch?v=G_UYXzGuqvM"
   ]
  },
  {
   "cell_type": "code",
   "execution_count": 2,
   "metadata": {},
   "outputs": [],
   "source": [
    "import numpy as np\n",
    "# 0 here means unknown value\n",
    "m_original =[\n",
    "    [0,0,2,0,1,5,0,7,8],\n",
    "    [1,8,0,0,6,3,4,0,0],\n",
    "    [0,0,4,0,2,0,5,6,1],\n",
    "    [0,9,6,0,0,7,0,3,0],\n",
    "    [0,1,0,3,0,6,0,0,5],\n",
    "    [0,0,3,2,0,4,0,9,6],\n",
    "    [0,3,0,0,0,0,0,0,0],\n",
    "    [6,4,9,8,3,0,2,0,7],\n",
    "    [0,0,7,0,0,0,0,1,0]]\n"
   ]
  },
  {
   "cell_type": "code",
   "execution_count": 3,
   "metadata": {},
   "outputs": [],
   "source": [
    "def print_sudoku_mtrx (m):\n",
    "    def printEntry(i,j):\n",
    "        res = str(m[i][j])\n",
    "        if res==\"0\":\n",
    "            return '\\033[91m'+res+'\\033[0m'\n",
    "        else:\n",
    "            return res\n",
    "    # for below see https://unicode-table.com/en/\n",
    "    h3 = u'\\u2550' + u'\\u2550' + u'\\u2550'\n",
    "    def hline (left, middle,right):\n",
    "        return left + h3 + middle + h3 + middle + h3 + right\n",
    "    hline_top = hline(u'\\u2554',u'\\u2566',u'\\u2557')\n",
    "    hline_middle = hline(u'\\u2560',u'\\u256c',u'\\u2563')\n",
    "    hline_bottom = hline(u'\\u255a',u'\\u2569',u'\\u255D')\n",
    "    vline = u'\\u2551'\n",
    "    for i in range(9): \n",
    "        line = \"\"\n",
    "        for j in range(9): \n",
    "            if j%3 == 0:\n",
    "                line = line + vline\n",
    "            line = line + printEntry(i,j)\n",
    "        if i%3==0:\n",
    "            if i==0:\n",
    "               print(hline_top)\n",
    "            else:    \n",
    "               print(hline_middle)\n",
    "        print(line + vline)\n",
    "    print(hline_bottom)"
   ]
  },
  {
   "cell_type": "code",
   "execution_count": 4,
   "metadata": {},
   "outputs": [
    {
     "name": "stdout",
     "output_type": "stream",
     "text": [
      "╔═══╦═══╦═══╗\n",
      "║\u001b[91m0\u001b[0m\u001b[91m0\u001b[0m2║\u001b[91m0\u001b[0m15║\u001b[91m0\u001b[0m78║\n",
      "║18\u001b[91m0\u001b[0m║\u001b[91m0\u001b[0m63║4\u001b[91m0\u001b[0m\u001b[91m0\u001b[0m║\n",
      "║\u001b[91m0\u001b[0m\u001b[91m0\u001b[0m4║\u001b[91m0\u001b[0m2\u001b[91m0\u001b[0m║561║\n",
      "╠═══╬═══╬═══╣\n",
      "║\u001b[91m0\u001b[0m96║\u001b[91m0\u001b[0m\u001b[91m0\u001b[0m7║\u001b[91m0\u001b[0m3\u001b[91m0\u001b[0m║\n",
      "║\u001b[91m0\u001b[0m1\u001b[91m0\u001b[0m║3\u001b[91m0\u001b[0m6║\u001b[91m0\u001b[0m\u001b[91m0\u001b[0m5║\n",
      "║\u001b[91m0\u001b[0m\u001b[91m0\u001b[0m3║2\u001b[91m0\u001b[0m4║\u001b[91m0\u001b[0m96║\n",
      "╠═══╬═══╬═══╣\n",
      "║\u001b[91m0\u001b[0m3\u001b[91m0\u001b[0m║\u001b[91m0\u001b[0m\u001b[91m0\u001b[0m\u001b[91m0\u001b[0m║\u001b[91m0\u001b[0m\u001b[91m0\u001b[0m\u001b[91m0\u001b[0m║\n",
      "║649║83\u001b[91m0\u001b[0m║2\u001b[91m0\u001b[0m7║\n",
      "║\u001b[91m0\u001b[0m\u001b[91m0\u001b[0m7║\u001b[91m0\u001b[0m\u001b[91m0\u001b[0m\u001b[91m0\u001b[0m║\u001b[91m0\u001b[0m1\u001b[91m0\u001b[0m║\n",
      "╚═══╩═══╩═══╝\n"
     ]
    }
   ],
   "source": [
    "print_sudoku_mtrx(m_original)"
   ]
  },
  {
   "cell_type": "code",
   "execution_count": 5,
   "metadata": {},
   "outputs": [],
   "source": [
    "def check (m,x,y, val, print_error) :\n",
    "    for i in range(9):\n",
    "        # Check columns\n",
    "        if i!= x and val == m[i][y] :\n",
    "            if print_error:\n",
    "                print(\"columns! found val on pos x=\"+ str(i) + \",y=\" + str(y))\n",
    "            return False\n",
    "        # Check rows\n",
    "        if i!=y and val == m[x][i] :\n",
    "            if print_error:\n",
    "                print(\"rows! found val on pos x=\"+ str(x) + \",y=\" + str(i))\n",
    "            return False\n",
    "    # Check squares\n",
    "    t_x = (x // 3)*3\n",
    "    t_y = (y // 3)*3\n",
    "    for i in range(3):\n",
    "        for j in range(3):\n",
    "            if x!=t_x+i and y!=t_y+j and val == m[t_x+i][t_y+j]:\n",
    "                if print_error:\n",
    "                    print(\"square \"+str(x)+\" \"+str(y)+\" \"+str(val))\n",
    "                return False\n",
    "    return True\n",
    "\n",
    "def _check_grid(g):\n",
    "    for x in range(9):\n",
    "        for y in range(9):\n",
    "            if g[x][y]!=0:\n",
    "                if not check(g,x,y,g[x][y], True):\n",
    "                    return (False,\"x:{x},y:{y},val:{g[x][y]}\")\n",
    "            else:\n",
    "                return (False,f\"Found an undefined value at x={x} and y={y}.\")\n",
    "    return True\n",
    "def check_grid(g):\n",
    "    (isOk,helpString)=_check_grid(g)\n",
    "    if isOk:\n",
    "        print(\"This grid is OK\")\n",
    "    else:\n",
    "        print(f\"There seems to be an issue with the grid-{helpString}\")               "
   ]
  },
  {
   "cell_type": "code",
   "execution_count": 6,
   "metadata": {},
   "outputs": [
    {
     "name": "stdout",
     "output_type": "stream",
     "text": [
      "There seems to be an issue with the grid-Found an undefined value at x=0 and y=0.\n"
     ]
    }
   ],
   "source": [
    "check_grid(m_original)"
   ]
  },
  {
   "cell_type": "code",
   "execution_count": 7,
   "metadata": {},
   "outputs": [
    {
     "name": "stdout",
     "output_type": "stream",
     "text": [
      "Number of results: 1\n",
      "╔═══╦═══╦═══╗\n",
      "║962║415║378║\n",
      "║185║763║429║\n",
      "║374║928║561║\n",
      "╠═══╬═══╬═══╣\n",
      "║496║157║832║\n",
      "║218║396║745║\n",
      "║753║284║196║\n",
      "╠═══╬═══╬═══╣\n",
      "║531║672║984║\n",
      "║649║831║257║\n",
      "║827║549║613║\n",
      "╚═══╩═══╩═══╝\n"
     ]
    },
    {
     "ename": "TypeError",
     "evalue": "cannot unpack non-iterable bool object",
     "output_type": "error",
     "traceback": [
      "\u001b[0;31m---------------------------------------------------------------------------\u001b[0m",
      "\u001b[0;31mTypeError\u001b[0m                                 Traceback (most recent call last)",
      "\u001b[0;32m<ipython-input-7-26cd1f2b715b>\u001b[0m in \u001b[0;36m<module>\u001b[0;34m\u001b[0m\n\u001b[1;32m     19\u001b[0m \u001b[0;32mfor\u001b[0m \u001b[0mi\u001b[0m \u001b[0;32min\u001b[0m \u001b[0mrange\u001b[0m\u001b[0;34m(\u001b[0m\u001b[0mlen\u001b[0m\u001b[0;34m(\u001b[0m\u001b[0mresults\u001b[0m\u001b[0;34m)\u001b[0m\u001b[0;34m)\u001b[0m\u001b[0;34m:\u001b[0m\u001b[0;34m\u001b[0m\u001b[0;34m\u001b[0m\u001b[0m\n\u001b[1;32m     20\u001b[0m     \u001b[0mprint_sudoku_mtrx\u001b[0m\u001b[0;34m(\u001b[0m\u001b[0mresults\u001b[0m\u001b[0;34m[\u001b[0m\u001b[0mi\u001b[0m\u001b[0;34m]\u001b[0m\u001b[0;34m)\u001b[0m\u001b[0;34m\u001b[0m\u001b[0;34m\u001b[0m\u001b[0m\n\u001b[0;32m---> 21\u001b[0;31m     \u001b[0mcheck_grid\u001b[0m\u001b[0;34m(\u001b[0m\u001b[0mresults\u001b[0m\u001b[0;34m[\u001b[0m\u001b[0mi\u001b[0m\u001b[0;34m]\u001b[0m\u001b[0;34m)\u001b[0m\u001b[0;34m\u001b[0m\u001b[0;34m\u001b[0m\u001b[0m\n\u001b[0m",
      "\u001b[0;32m<ipython-input-5-4e50c261885c>\u001b[0m in \u001b[0;36mcheck_grid\u001b[0;34m(g)\u001b[0m\n\u001b[1;32m     32\u001b[0m     \u001b[0;32mreturn\u001b[0m \u001b[0;32mTrue\u001b[0m\u001b[0;34m\u001b[0m\u001b[0;34m\u001b[0m\u001b[0m\n\u001b[1;32m     33\u001b[0m \u001b[0;32mdef\u001b[0m \u001b[0mcheck_grid\u001b[0m\u001b[0;34m(\u001b[0m\u001b[0mg\u001b[0m\u001b[0;34m)\u001b[0m\u001b[0;34m:\u001b[0m\u001b[0;34m\u001b[0m\u001b[0;34m\u001b[0m\u001b[0m\n\u001b[0;32m---> 34\u001b[0;31m     \u001b[0;34m(\u001b[0m\u001b[0misOk\u001b[0m\u001b[0;34m,\u001b[0m\u001b[0mhelpString\u001b[0m\u001b[0;34m)\u001b[0m\u001b[0;34m=\u001b[0m\u001b[0m_check_grid\u001b[0m\u001b[0;34m(\u001b[0m\u001b[0mg\u001b[0m\u001b[0;34m)\u001b[0m\u001b[0;34m\u001b[0m\u001b[0;34m\u001b[0m\u001b[0m\n\u001b[0m\u001b[1;32m     35\u001b[0m     \u001b[0;32mif\u001b[0m \u001b[0misOk\u001b[0m\u001b[0;34m:\u001b[0m\u001b[0;34m\u001b[0m\u001b[0;34m\u001b[0m\u001b[0m\n\u001b[1;32m     36\u001b[0m         \u001b[0mprint\u001b[0m\u001b[0;34m(\u001b[0m\u001b[0;34m\"This grid is OK\"\u001b[0m\u001b[0;34m)\u001b[0m\u001b[0;34m\u001b[0m\u001b[0;34m\u001b[0m\u001b[0m\n",
      "\u001b[0;31mTypeError\u001b[0m: cannot unpack non-iterable bool object"
     ]
    }
   ],
   "source": [
    "from copy import deepcopy\n",
    "results = []\n",
    "m=m_original\n",
    "def solve():\n",
    "    for x in range(9):\n",
    "        for y in range(9):\n",
    "            if m[x][y]==0:\n",
    "                for val in range(1,10):\n",
    "                    if check(m,x,y,val,False):\n",
    "                        m[x][y]=val\n",
    "                        solve()\n",
    "                        m[x][y]=0\n",
    "                return\n",
    "    #print_sudoku_mtrx(m)\n",
    "    results.append(deepcopy(m))    \n",
    "solve()\n",
    "\n",
    "print(\"Number of results: \"+str(len(results)))\n",
    "for i in range(len(results)):\n",
    "    print_sudoku_mtrx(results[i])\n",
    "    check_grid(results[i])\n"
   ]
  },
  {
   "cell_type": "code",
   "execution_count": null,
   "metadata": {},
   "outputs": [],
   "source": []
  },
  {
   "cell_type": "code",
   "execution_count": null,
   "metadata": {},
   "outputs": [],
   "source": []
  },
  {
   "cell_type": "code",
   "execution_count": null,
   "metadata": {},
   "outputs": [],
   "source": []
  }
 ],
 "metadata": {
  "kernelspec": {
   "display_name": "Python 3",
   "language": "python",
   "name": "python3"
  },
  "language_info": {
   "codemirror_mode": {
    "name": "ipython",
    "version": 3
   },
   "file_extension": ".py",
   "mimetype": "text/x-python",
   "name": "python",
   "nbconvert_exporter": "python",
   "pygments_lexer": "ipython3",
   "version": "3.7.9"
  }
 },
 "nbformat": 4,
 "nbformat_minor": 2
}
